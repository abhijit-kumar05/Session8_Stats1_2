{
 "cells": [
  {
   "cell_type": "code",
   "execution_count": 54,
   "metadata": {},
   "outputs": [],
   "source": [
    "import numpy as np\n",
    "import pandas as pd\n",
    "import matplotlib.pyplot as plt\n",
    "from scipy.stats import binom\n",
    "import math"
   ]
  },
  {
   "cell_type": "markdown",
   "metadata": {},
   "source": [
    "**Task 1: Q 1 -** \n",
    "    You survey households in your area to find the average rent they are paying. Find the\n",
    "     standard deviation from the following data:\n",
    "     $1550, $1700, $900, $850, $1000, $950."
   ]
  },
  {
   "cell_type": "code",
   "execution_count": 15,
   "metadata": {},
   "outputs": [
    {
     "name": "stdout",
     "output_type": "stream",
     "text": [
      "Standard Deviation :  335.92740617910624\n"
     ]
    }
   ],
   "source": [
    "rent = [1550, 1700, 900, 850, 1000, 950]\n",
    "print(\"Standard Deviation : \",np.std(rent))"
   ]
  },
  {
   "cell_type": "markdown",
   "metadata": {},
   "source": [
    "**Task1: Q2 -** \n",
    "Find the variance for the following set of data representing trees in California (heights in feet):\n",
    "3, 21, 98, 203, 17, 9"
   ]
  },
  {
   "cell_type": "code",
   "execution_count": 14,
   "metadata": {},
   "outputs": [
    {
     "name": "stdout",
     "output_type": "stream",
     "text": [
      "variance:  5183.25\n"
     ]
    }
   ],
   "source": [
    "height = [3,21,98,203,17,9]\n",
    "print(\"variance: \",np.var(height))\n"
   ]
  },
  {
   "cell_type": "code",
   "execution_count": 16,
   "metadata": {},
   "outputs": [],
   "source": [
    "# Task1: Q3 - \n",
    "#     In a class on 100 students, 80 students passed in all subjects, 10 failed in one subject, 7 failed\n",
    "#     in two subjects and 3 failed in three subjects. Find the probability distribution of the variable for\n",
    "#     number of subjects a student from the given class has failed"
   ]
  },
  {
   "cell_type": "code",
   "execution_count": 64,
   "metadata": {},
   "outputs": [],
   "source": [
    "total_students= 100\n",
    "fail0subject=80\n",
    "fail1subject=10\n",
    "fail2subject=7\n",
    "fail3subject=3"
   ]
  },
  {
   "cell_type": "code",
   "execution_count": 67,
   "metadata": {},
   "outputs": [],
   "source": [
    "def students_fail(fail_subect, students):\n",
    "    probability = (fail_subect / students) \n",
    "    return (probability)"
   ]
  },
  {
   "cell_type": "code",
   "execution_count": 71,
   "metadata": {},
   "outputs": [
    {
     "name": "stdout",
     "output_type": "stream",
     "text": [
      "Probablility of failing in 0 subjects: 0.8\n"
     ]
    }
   ],
   "source": [
    "print(\"Probablility of failing in 0 subjects:\",students_fail(fail0subject,total_students))"
   ]
  },
  {
   "cell_type": "code",
   "execution_count": 72,
   "metadata": {},
   "outputs": [
    {
     "name": "stdout",
     "output_type": "stream",
     "text": [
      "Probablility of failing in 1 subjects: 0.1\n"
     ]
    }
   ],
   "source": [
    "print(\"Probablility of failing in 1 subjects:\",students_fail(fail1subject,total_students))"
   ]
  },
  {
   "cell_type": "code",
   "execution_count": 74,
   "metadata": {},
   "outputs": [
    {
     "name": "stdout",
     "output_type": "stream",
     "text": [
      "Probablility of failing in 2 subjects: 0.07\n"
     ]
    }
   ],
   "source": [
    "print(\"Probablility of failing in 2 subjects:\",students_fail(fail2subject,total_students))"
   ]
  },
  {
   "cell_type": "code",
   "execution_count": 75,
   "metadata": {},
   "outputs": [
    {
     "name": "stdout",
     "output_type": "stream",
     "text": [
      "Probablility of failing in 3 subjects: 0.03\n"
     ]
    }
   ],
   "source": [
    "print(\"Probablility of failing in 3 subjects:\",students_fail(fail3subject,total_students))"
   ]
  },
  {
   "cell_type": "markdown",
   "metadata": {},
   "source": [
    "**Task 2 : Q1 -** \n",
    "A test is conducted which is consisting of 20 MCQs (multiple choices questions) with every\n",
    "MCQ having its four options out of which only one is correct. Determine the probability that a\n",
    "person undertaking that test has answered exactly 5 questions wrong.\n"
   ]
  },
  {
   "cell_type": "code",
   "execution_count": 53,
   "metadata": {},
   "outputs": [
    {
     "name": "stdout",
     "output_type": "stream",
     "text": [
      "The probability of getting exactly 5 questions wrong :  3.4264958230778435e-06\n"
     ]
    }
   ],
   "source": [
    "# Using Binomial Distribution - \n",
    "# No of Questions - 5\n",
    "# Total questions - 20\n",
    "# Probability of getting a question wrong - 0.75\n",
    "print(\"The probability of getting exactly 5 questions wrong : \",binom.pmf(5,20,0.75))"
   ]
  },
  {
   "cell_type": "code",
   "execution_count": 55,
   "metadata": {},
   "outputs": [],
   "source": [
    "######################### Blank Lime ######################"
   ]
  },
  {
   "cell_type": "markdown",
   "metadata": {},
   "source": [
    "**Task2: Q2** -  A die marked A to E is rolled 50 times. Find the probability of getting a “D” exactly 5 times."
   ]
  },
  {
   "cell_type": "code",
   "execution_count": 54,
   "metadata": {},
   "outputs": [
    {
     "name": "stdout",
     "output_type": "stream",
     "text": [
      "The probability of getting a “D” exactly 5 times is:  0.029531204310523224\n"
     ]
    }
   ],
   "source": [
    "# Using Binomial Distribution - \n",
    "# To Get \"D\" - 5 times\n",
    "# Die Roll - 50\n",
    "# Probability of getting a D per turn - 0.2\n",
    "print(\"The probability of getting a “D” exactly 5 times is: \",binom.pmf(5,50,0.2))"
   ]
  },
  {
   "cell_type": "code",
   "execution_count": 56,
   "metadata": {},
   "outputs": [],
   "source": [
    "######################### Blank Lime ######################"
   ]
  },
  {
   "cell_type": "markdown",
   "metadata": {},
   "source": [
    "**Task2: Q3**\n",
    "Two balls are drawn at random in succession without replacement from an urn containing 4 red balls and 6 black balls.\n",
    "Find the probabilities of all the possible outcomes."
   ]
  },
  {
   "cell_type": "code",
   "execution_count": 31,
   "metadata": {},
   "outputs": [],
   "source": [
    "#define function to calculate combination of drawing r elements from n\n",
    "def nCr(n,r):\n",
    "    f = math.factorial\n",
    "    return f(n) / f(r) / f(n-r)\n"
   ]
  },
  {
   "cell_type": "code",
   "execution_count": 33,
   "metadata": {},
   "outputs": [
    {
     "data": {
      "text/plain": [
       "0.13333333333333336"
      ]
     },
     "execution_count": 33,
     "metadata": {},
     "output_type": "execute_result"
    }
   ],
   "source": [
    "#Case 1: Drawaing 2 red balls in successions - \n",
    "# Probability of drawing 1 red ball from 10 balls * probablility of drawing another red ball from remaning 9 balls\n",
    "nCr(4,1)/nCr(10,1)*nCr(3,1)/nCr(9,1)"
   ]
  },
  {
   "cell_type": "code",
   "execution_count": 35,
   "metadata": {},
   "outputs": [
    {
     "data": {
      "text/plain": [
       "0.3333333333333333"
      ]
     },
     "execution_count": 35,
     "metadata": {},
     "output_type": "execute_result"
    }
   ],
   "source": [
    "#Case 2: Drawaing 2 black balls in successions - \n",
    "# Probability of drawing 1 black ball from 10 balls * probablility of drawing another black ball from remaning 9 balls\n",
    "nCr(6,1)/nCr(10,1)*nCr(5,1)/nCr(9,1)"
   ]
  },
  {
   "cell_type": "code",
   "execution_count": 37,
   "metadata": {},
   "outputs": [
    {
     "data": {
      "text/plain": [
       "0.5333333333333334"
      ]
     },
     "execution_count": 37,
     "metadata": {},
     "output_type": "execute_result"
    }
   ],
   "source": [
    "#Case 3: Drawaing 1 red ball & 1 black ball\n",
    "# Probability of drawing 1 black ball, followed by 1 red ball+ probablility  of drawing 1 red ball, followed by 1 black ball\n",
    "nCr(6,1)/nCr(10,1)*nCr(4,1)/nCr(9,1) + nCr(4,1)/nCr(10,1)*nCr(6,1)/nCr(9,1)"
   ]
  },
  {
   "cell_type": "code",
   "execution_count": null,
   "metadata": {},
   "outputs": [],
   "source": []
  }
 ],
 "metadata": {
  "kernelspec": {
   "display_name": "Python 3",
   "language": "python",
   "name": "python3"
  },
  "language_info": {
   "codemirror_mode": {
    "name": "ipython",
    "version": 3
   },
   "file_extension": ".py",
   "mimetype": "text/x-python",
   "name": "python",
   "nbconvert_exporter": "python",
   "pygments_lexer": "ipython3",
   "version": "3.7.1"
  }
 },
 "nbformat": 4,
 "nbformat_minor": 2
}
